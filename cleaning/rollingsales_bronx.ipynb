{
 "cells": [
  {
   "cell_type": "code",
   "execution_count": null,
   "metadata": {},
   "outputs": [],
   "source": [
    "# https://www.datacamp.com/tutorial/tutorial-data-cleaning-tutorial"
   ]
  },
  {
   "cell_type": "code",
   "execution_count": null,
   "metadata": {},
   "outputs": [],
   "source": [
    "#pandas\n",
    "import pandas as pd\n",
    "import seaborn as sns\n",
    "import matplotlib.pyplot as plt\n",
    "\n",
    "#read excel file\n",
    "df = pd.read_excel(\"rollingsales_bronx.xlsx\")\n",
    "\n",
    "#preview data\n",
    "df.head()"
   ]
  },
  {
   "cell_type": "code",
   "execution_count": null,
   "metadata": {},
   "outputs": [],
   "source": [
    "#we read the data in again but skill 3 rows this time\n",
    "df = pd.read_excel(\"rollingsales_bronx.xlsx\", skiprows = 4, header = [0])\n",
    "\n",
    "df.head()"
   ]
  },
  {
   "cell_type": "code",
   "execution_count": null,
   "metadata": {},
   "outputs": [],
   "source": [
    "# preview column names\n",
    "df.columns"
   ]
  },
  {
   "cell_type": "code",
   "execution_count": null,
   "metadata": {},
   "outputs": [],
   "source": [
    "#Extract columns\n",
    "cols = df.columns\n",
    "\n",
    "#Create empty list\n",
    "new_cols = []\n",
    "\n",
    "#iterate to fix issues with names\n",
    "for column in cols:\n",
    "    #to proper case\n",
    "    proper_cols = column.title()\n",
    "    #replace space/hyphen with underscore\n",
    "    proper_cols_hyphen = proper_cols.replace(\" \", \"_\")\n",
    "    clean_col = proper_cols_hyphen.replace(\"-\", \"_\")\n",
    "    #append to empty list\n",
    "    new_cols.append(clean_col)\n",
    "#diplay columns\n",
    "new_cols\n",
    "\n",
    "#replace existing columns in dataframe with new\n",
    "df.columns = new_cols\n",
    "\n",
    "#preview\n",
    "df.head()"
   ]
  },
  {
   "cell_type": "code",
   "execution_count": null,
   "metadata": {},
   "outputs": [],
   "source": [
    "#data types\n",
    "df.dtypes"
   ]
  },
  {
   "cell_type": "code",
   "execution_count": null,
   "metadata": {},
   "outputs": [],
   "source": [
    "df.Year_Built"
   ]
  },
  {
   "cell_type": "code",
   "execution_count": null,
   "metadata": {},
   "outputs": [],
   "source": [
    "#Fix Year_Built column\n",
    "df.Year_Built = df.Year_Built.astype(\"str\")\n",
    "\n",
    "#Check\n",
    "df.dtypes"
   ]
  },
  {
   "cell_type": "code",
   "execution_count": null,
   "metadata": {},
   "outputs": [],
   "source": [
    "#extract the column names\n",
    "cols = df.columns\n",
    "\n",
    "#plot a heatmap of missing values with seaborn\n",
    "plt.figure(figsize = (10,5))\n",
    "sns.heatmap(df[cols].isnull())"
   ]
  },
  {
   "cell_type": "code",
   "execution_count": null,
   "metadata": {},
   "outputs": [],
   "source": [
    "#Get the percentage of missing values in each column\n",
    "missing_pct = round(df.isnull().sum()/len(df) * 100, 1)\n",
    "print(missing_pct)"
   ]
  },
  {
   "cell_type": "code",
   "execution_count": null,
   "metadata": {},
   "outputs": [],
   "source": [
    "#columns with more than 30% missing values\n",
    "drop_cols = missing_pct[missing_pct > 30].index\n",
    "#We can drop these columns with greater than 30 percent missing values\n",
    "df_new = df.drop(columns = drop_cols)\n",
    "\n",
    "#Extract columns with mising values between 1 and 30%\n",
    "replace_cols = missing_pct[(missing_pct > 0) & (missing_pct < 30)].index\n",
    "\n",
    "#Iterate to replace missing values\n",
    "for col in replace_cols:\n",
    "    #if column is year built we replace with median otherwise the mean\n",
    "    if col == \"Year_Built\":\n",
    "        df_new.fillna(df_new[col].median(), inplace = True)\n",
    "    else:\n",
    "        mean_value = df_new[col].mean()\n",
    "        df_new.fillna(mean_value, inplace = True)\n",
    "df_new.isnull().sum() #preview for missing values"
   ]
  }
 ],
 "metadata": {
  "kernelspec": {
   "display_name": "Python 3.8.12 64-bit",
   "language": "python",
   "name": "python3"
  },
  "language_info": {
   "codemirror_mode": {
    "name": "ipython",
    "version": 3
   },
   "file_extension": ".py",
   "mimetype": "text/x-python",
   "name": "python",
   "nbconvert_exporter": "python",
   "pygments_lexer": "ipython3",
   "version": "3.8.12"
  },
  "orig_nbformat": 4,
  "vscode": {
   "interpreter": {
    "hash": "fea41f6f054235ef318fd112b132d1376affb82a7d7b582720fc9c4d28e3ab82"
   }
  }
 },
 "nbformat": 4,
 "nbformat_minor": 2
}
